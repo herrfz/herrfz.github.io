{
 "metadata": {
  "Author": "Eriza Fazli",
  "Category": "kaggle",
  "Date": "2013-7-21",
  "Tags": "machine learning, SVM, bagging",
  "Title": "Handwritten digit recognition",
  "name": "digits",
  "slug": "handwritten-digit-recognition"
 },
 "nbformat": 3,
 "nbformat_minor": 0,
 "worksheets": [
  {
   "cells": [
    {
     "cell_type": "markdown",
     "metadata": {},
     "source": [
      "I'm starting to put all my works on data analysis and machine learning on this blog. As a first real post, I thought a canonical example of machine learning task should do all right. It is actually also featured as \"machine learning 101\" [competition on Kaggle](http://www.kaggle.com/c/digit-recognizer).\n",
      "\n",
      "I first made my submission some time ago using the code [here](http://nbviewer.ipython.org/urls/raw.github.com/herrfz/kaggle/master/hwdigit/handwritten_digit_recognition.ipynb). In the meantime, I think I've learnt scikit-learn a little bit more, and this post serves as an update.\n",
      "\n",
      "The main change I implemented here is that now I included the number of PCA components in the list of parameters to be optimised. This can be achieved by using scikit-learn's `Pipeline`. \n",
      "\n",
      "Another change is related to the way the dataset is partitioned to speed up the computation. We know that SVM complexity increases quadratically with sample size. With the number of hyperparameters to optimise and the cross-validation iterations to compute the algorithm performance on one parameter set, learning simply takes forever. In my previous attempt I simply partitioned the dataset into three, and trained an SVM on each partition. Each SVM is then applied to the test set, and the final prediction is obtained by majority vote.\n",
      "\n",
      "Here I used the technique called Bootstrap aggregating ([Bagging](https://en.wikipedia.org/wiki/Bootstrap_aggregating)). What it does is, it takes samples from the dataset, with replacement, and use them for training. This step produces one model/classifier. Then repeat the resampling and training a couple of times to get a few more classifiers. For prediction, take a majority vote of the classifiers. This is actually the underlying mechanism of [Random Forest](http://en.wikipedia.org/wiki/Random_forest). The difference here being that instead of decision trees, we'll used SVM as the base learners.\n",
      "\n",
      "The advantage of using bagging is that I can subset the data over and over again without being limited by the original dataset. And every training takes only a small subset of the original dataset, thus SVM can be used quite efficiently. As we'll see, bagging actually works here, in the sense that the overall classification performance is better than the best of the individual classifier."
     ]
    },
    {
     "cell_type": "code",
     "collapsed": false,
     "input": [
      "# pandas and numpy\n",
      "import numpy as np\n",
      "import pandas as pd\n",
      "\n",
      "# scikit-learn \n",
      "from sklearn.svm import SVC\n",
      "from sklearn.grid_search import GridSearchCV\n",
      "from sklearn.decomposition import PCA\n",
      "from sklearn.preprocessing import MinMaxScaler\n",
      "from sklearn.pipeline import Pipeline\n",
      "from sklearn.cross_validation import Bootstrap"
     ],
     "language": "python",
     "metadata": {},
     "outputs": [],
     "prompt_number": 1
    },
    {
     "cell_type": "code",
     "collapsed": false,
     "input": [
      "%pylab inline"
     ],
     "language": "python",
     "metadata": {},
     "outputs": [
      {
       "output_type": "stream",
       "stream": "stdout",
       "text": [
        "\n",
        "Welcome to pylab, a matplotlib-based Python environment [backend: module://IPython.zmq.pylab.backend_inline].\n",
        "For more information, type 'help(pylab)'.\n"
       ]
      }
     ],
     "prompt_number": 2
    },
    {
     "cell_type": "markdown",
     "metadata": {},
     "source": [
      "First let's load the training data:"
     ]
    },
    {
     "cell_type": "code",
     "collapsed": false,
     "input": [
      "train = pd.read_csv('./data/train.csv')\n",
      "train = train.astype(float64)\n",
      "\n",
      "N = train.shape[0]"
     ],
     "language": "python",
     "metadata": {},
     "outputs": [],
     "prompt_number": 3
    },
    {
     "cell_type": "markdown",
     "metadata": {},
     "source": [
      "The data is a flattened 28-by-28-pixel image/matrix. So if we look at the dataset shape:"
     ]
    },
    {
     "cell_type": "code",
     "collapsed": false,
     "input": [
      "train.shape"
     ],
     "language": "python",
     "metadata": {},
     "outputs": [
      {
       "output_type": "pyout",
       "prompt_number": 4,
       "text": [
        "(42000, 785)"
       ]
      }
     ],
     "prompt_number": 4
    },
    {
     "cell_type": "markdown",
     "metadata": {},
     "source": [
      "each row is a vector of the flattened matrix for one training example. The first column is used to store the label (0, 1, 2, ... 9). And here we have 42000 examples, which is quite a lot for my laptop.\n",
      "\n",
      "Then let's take some random samples, and see how the original images look like:"
     ]
    },
    {
     "cell_type": "code",
     "collapsed": false,
     "input": [
      "f, ax = subplots(ncols=4)\n",
      "\n",
      "imsize = (28, 28)\n",
      "\n",
      "for axis in ax:\n",
      "    row = np.random.randint(N)\n",
      "    axis.matshow(np.reshape(train.iloc[row,1:], imsize), cmap='gray_r')\n",
      "\n",
      "f.tight_layout();"
     ],
     "language": "python",
     "metadata": {},
     "outputs": [
      {
       "output_type": "display_data",
       "png": "[encoded data removed]"
      }
     ],
     "prompt_number": 5
    },
    {
     "cell_type": "markdown",
     "metadata": {},
     "source": [
      "Before using the SVM we need to setup a few things. First the data needs to be scaled. Here we'll use scikit-learn `MinMaxScaler`. We'll store the transformed features into the matrix $X$, and the training labels into the vector $y$. \n",
      "\n",
      "Finally we'll create the PCA and SVM classifier objects."
     ]
    },
    {
     "cell_type": "code",
     "collapsed": false,
     "input": [
      "min_max_scaler = MinMaxScaler()\n",
      "X = min_max_scaler.fit_transform(train.iloc[:,1:])\n",
      "\n",
      "y = train.iloc[:,0]\n",
      "\n",
      "pca = PCA()\n",
      "clf = SVC()"
     ],
     "language": "python",
     "metadata": {},
     "outputs": [],
     "prompt_number": 6
    },
    {
     "cell_type": "markdown",
     "metadata": {},
     "source": [
      "The pipeline of the machine learning system is shown in the figure below."
     ]
    },
    {
     "cell_type": "code",
     "collapsed": false,
     "input": [
      "from IPython.display import Image\n",
      "Image(filename='./images/pipeline.png')"
     ],
     "language": "python",
     "metadata": {},
     "outputs": [
      {
       "output_type": "pyout",
       "png": "[encoded data removed]",
       "prompt_number": 8,
       "text": [
        "<IPython.core.display.Image at 0x107c10d90>"
       ]
      }
     ],
     "prompt_number": 8
    },
    {
     "cell_type": "markdown",
     "metadata": {},
     "source": [
      "And here's the code to implement it. To specify the parameters, we just need to concatenate the name of the pipeline element and the parameter name with a `__` (double underscores). "
     ]
    },
    {
     "cell_type": "code",
     "collapsed": false,
     "input": [
      "pipeline = Pipeline([('pca', pca), ('svc', clf)])\n",
      "\n",
      "params = {'pca__n_components' : np.arange(20, 100, 20),\n",
      "          'svc__C' : [10, 50, 100],\n",
      "          'svc__gamma' : [0.1, 1e-2, 1e-3]}\n",
      "\n",
      "clfs = []\n",
      "\n",
      "for tr, te in Bootstrap(N, n_iter=10, train_size=0.3):\n",
      "    grid_search = GridSearchCV(pipeline, params, n_jobs=-1, cv=3)\n",
      "    grid_search.fit(X[tr,:], y[tr])\n",
      "    clfs.append(grid_search)\n",
      "    oob_score = 1./len(te) * sum( grid_search.predict(X[te,:]) == y[te] )\n",
      "    print grid_search.best_params_, oob_score"
     ],
     "language": "python",
     "metadata": {},
     "outputs": [
      {
       "output_type": "stream",
       "stream": "stdout",
       "text": [
        "{'svc__gamma': 0.1, 'pca__n_components': 20, 'svc__C': 10} 0.962721088435\n",
        "{'svc__gamma': 0.1, 'pca__n_components': 40, 'svc__C': 10}"
       ]
      },
      {
       "output_type": "stream",
       "stream": "stdout",
       "text": [
        " 0.963741496599\n",
        "{'svc__gamma': 0.1, 'pca__n_components': 20, 'svc__C': 10}"
       ]
      },
      {
       "output_type": "stream",
       "stream": "stdout",
       "text": [
        " 0.96306122449\n",
        "{'svc__gamma': 0.01, 'pca__n_components': 60, 'svc__C': 10}"
       ]
      },
      {
       "output_type": "stream",
       "stream": "stdout",
       "text": [
        " 0.962993197279\n",
        "{'svc__gamma': 0.1, 'pca__n_components': 40, 'svc__C': 10}"
       ]
      },
      {
       "output_type": "stream",
       "stream": "stdout",
       "text": [
        " 0.966020408163\n",
        "{'svc__gamma': 0.1, 'pca__n_components': 20, 'svc__C': 10}"
       ]
      },
      {
       "output_type": "stream",
       "stream": "stdout",
       "text": [
        " 0.964149659864\n",
        "{'svc__gamma': 0.01, 'pca__n_components': 40, 'svc__C': 50}"
       ]
      },
      {
       "output_type": "stream",
       "stream": "stdout",
       "text": [
        " 0.962891156463\n",
        "{'svc__gamma': 0.1, 'pca__n_components': 20, 'svc__C': 10}"
       ]
      },
      {
       "output_type": "stream",
       "stream": "stdout",
       "text": [
        " 0.963843537415\n",
        "{'svc__gamma': 0.01, 'pca__n_components': 80, 'svc__C': 50}"
       ]
      },
      {
       "output_type": "stream",
       "stream": "stdout",
       "text": [
        " 0.965408163265\n",
        "{'svc__gamma': 0.1, 'pca__n_components': 40, 'svc__C': 10}"
       ]
      },
      {
       "output_type": "stream",
       "stream": "stdout",
       "text": [
        " 0.964897959184\n"
       ]
      }
     ],
     "prompt_number": 8
    },
    {
     "cell_type": "markdown",
     "metadata": {},
     "source": [
      "As we can see the individual classifier performances (i.e. classification accuracy) are between 0.963-0.966. Note that the parameter grid is not very fine-grained so there might still be room for optimisations. The reason for not including so many parameters is simple: computation time.\n",
      "\n",
      "To produce the test set predictions, let's load the data:"
     ]
    },
    {
     "cell_type": "code",
     "collapsed": false,
     "input": [
      "test = pd.read_csv('./data/test.csv')\n",
      "test = test.astype(float64)\n",
      "\n",
      "Nt = test.shape[0]"
     ],
     "language": "python",
     "metadata": {},
     "outputs": [],
     "prompt_number": 16
    },
    {
     "cell_type": "code",
     "collapsed": false,
     "input": [
      "test.shape"
     ],
     "language": "python",
     "metadata": {},
     "outputs": [
      {
       "output_type": "pyout",
       "prompt_number": 17,
       "text": [
        "(28000, 784)"
       ]
      }
     ],
     "prompt_number": 17
    },
    {
     "cell_type": "markdown",
     "metadata": {},
     "source": [
      "Notice that we have one fewer column compared to the training set, this is because the test set doesn't contain any labels.\n",
      "\n",
      "Then let's scale the test data, and store it in the matrix $X_t$:"
     ]
    },
    {
     "cell_type": "code",
     "collapsed": false,
     "input": [
      "Xt = min_max_scaler.transform(test)"
     ],
     "language": "python",
     "metadata": {},
     "outputs": [],
     "prompt_number": 19
    },
    {
     "cell_type": "markdown",
     "metadata": {},
     "source": [
      "and compute the predictions for each classifier:"
     ]
    },
    {
     "cell_type": "code",
     "collapsed": false,
     "input": [
      "pred = np.zeros((Nt, len(clfs)))\n",
      "\n",
      "for i, clf in enumerate(clfs):\n",
      "    pred[:,i] = clf.predict(Xt)"
     ],
     "language": "python",
     "metadata": {},
     "outputs": [],
     "prompt_number": 21
    },
    {
     "cell_type": "markdown",
     "metadata": {},
     "source": [
      "The final predictions are obtained as the prediction label that has the most count:"
     ]
    },
    {
     "cell_type": "code",
     "collapsed": false,
     "input": [
      "final_pred = [np.bincount(x).argmax() for x in pred.astype(int)]"
     ],
     "language": "python",
     "metadata": {},
     "outputs": [],
     "prompt_number": 28
    },
    {
     "cell_type": "markdown",
     "metadata": {},
     "source": [
      "Finally, this piece of code produces the Kaggle submission file:"
     ]
    },
    {
     "cell_type": "code",
     "collapsed": false,
     "input": [
      "with open('./data/submission.csv', 'w') as of:\n",
      "    of.write('ImageId,Label\\n')\n",
      "    \n",
      "    for image_id, label in enumerate(final_pred):\n",
      "        of.write(str(image_id + 1) + ',' + str(label) + '\\n')"
     ],
     "language": "python",
     "metadata": {},
     "outputs": [],
     "prompt_number": 31
    },
    {
     "cell_type": "markdown",
     "metadata": {},
     "source": [
      "The Kaggle-computed classification accuracy is 0.97014. It is not actually an improvement compared to my first submission. But looking at the classification performance of the individual classifiers, it does seem to perform somewhat better. "
     ]
    },
    {
     "cell_type": "markdown",
     "metadata": {},
     "source": [
      "PS: This post is a proper IPython notebook, and thus can be downloaded from [here](https://raw.github.com/herrfz/herrfz.github.io/source/content/digits.ipynb) to be executed locally. Of course the data need to be [downloaded](http://www.kaggle.com/c/digit-recognizer/data) from Kaggle and saved in a \"data\" subdirectory."
     ]
    },
    {
     "cell_type": "code",
     "collapsed": false,
     "input": [],
     "language": "python",
     "metadata": {},
     "outputs": []
    }
   ],
   "metadata": {}
  }
 ]
}